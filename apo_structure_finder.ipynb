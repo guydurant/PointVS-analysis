{
 "cells": [
  {
   "cell_type": "code",
   "execution_count": 20,
   "id": "cfcdaefd",
   "metadata": {},
   "outputs": [],
   "source": [
    "from pypdb import *\n",
    "import prody\n",
    "from pymol import cmd\n",
    "\n",
    "p = '1a30'\n",
    "\n",
    "\n",
    "\n",
    "def get_pdb_sequence(pdb):\n",
    "    cmd.load(f'../pdbbind_2020_general/{pdb}/{pdb}_protein_cleaned.pdb')\n",
    "    sequence = cmd.get_fastastr('all')\n",
    "    cmd.delete('all')\n",
    "    return sequence\n",
    "\n",
    "# q = Query(\"VLSPADKTNVKAAWGKVGAHAGEYGAEALERMFLSFPTTKTYFPHFDLSHGSAQVKGHGKKVADALTAVAHVDDMPNAL\", \n",
    "#           query_type=\"sequence\", \n",
    "#           return_type=\"polymer_entity\")\n",
    "\n",
    "# print(q.search())\n",
    "\n"
   ]
  },
  {
   "cell_type": "code",
   "execution_count": 21,
   "id": "871586f4",
   "metadata": {},
   "outputs": [
    {
     "name": "stdout",
     "output_type": "stream",
     "text": [
      "\n"
     ]
    },
    {
     "name": "stderr",
     "output_type": "stream",
     "text": [
      "/data/pegasus/not-backed-up/durant/miniconda3/envs/pointvs/lib/python3.8/site-packages/pymol/importing.py:860: DeprecationWarning: inspect.getargspec() is deprecated since Python 3.0, use inspect.signature() or inspect.getfullargspec()\n",
      "  spec = inspect.getargspec(func)\n",
      "/data/pegasus/not-backed-up/durant/miniconda3/envs/pointvs/lib/python3.8/site-packages/pymol/importing.py:1068: DeprecationWarning: PY_SSIZE_T_CLEAN will be required for '#' formats\n",
      "  r = _cmd.load(_self._COb, str(oname), None, contents,\n"
     ]
    },
    {
     "data": {
      "text/plain": [
       "'>1a30_protein_cleaned_A\\nPQITLWKRPLVTIKIGGQLKEALLDTGADDTVIEEMSLPGRWKPKMIGGIGGFIKVRQYDQIIIEICGHK\\nAIGTVLVGPTPVNIIGRNLLTQIGCTLNF\\n>1a30_protein_cleaned_B\\nPQITLWKRPLVTIKIGGQLKEALLDTGADDTVIEEMSLPGRWKPKMIGGIGGFIKVRQYDQIIIEICGHK\\nAIGTVLVGPTPVNIIGRNLLTQIGCTLNF\\n'"
      ]
     },
     "execution_count": 21,
     "metadata": {},
     "output_type": "execute_result"
    }
   ],
   "source": [
    "get_pdb_sequence(p)"
   ]
  },
  {
   "cell_type": "code",
   "execution_count": 10,
   "id": "45b24815",
   "metadata": {},
   "outputs": [
    {
     "name": "stdout",
     "output_type": "stream",
     "text": [
      "Help on function getSequence in module prody.atomic.atomic:\n",
      "\n",
      "getSequence(self, **kwargs)\n",
      "    Returns one-letter sequence string for amino acids.\n",
      "    When *allres* keyword argument is **True**, sequence will include all\n",
      "    residues (e.g. water molecules) in the chain and **X** will be used for\n",
      "    non-standard residue names.\n",
      "\n"
     ]
    }
   ],
   "source": [
    "help(prody.AtomGroup.getSequence)"
   ]
  },
  {
   "cell_type": "code",
   "execution_count": null,
   "id": "fdafce25",
   "metadata": {},
   "outputs": [],
   "source": []
  }
 ],
 "metadata": {
  "kernelspec": {
   "display_name": "Python 3 (ipykernel)",
   "language": "python",
   "name": "python3"
  },
  "language_info": {
   "codemirror_mode": {
    "name": "ipython",
    "version": 3
   },
   "file_extension": ".py",
   "mimetype": "text/x-python",
   "name": "python",
   "nbconvert_exporter": "python",
   "pygments_lexer": "ipython3",
   "version": "3.8.12"
  }
 },
 "nbformat": 4,
 "nbformat_minor": 5
}
