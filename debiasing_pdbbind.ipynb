{
 "cells": [
  {
   "cell_type": "markdown",
   "id": "066076fc",
   "metadata": {},
   "source": [
    "# Proteins - Sequence similarity"
   ]
  },
  {
   "cell_type": "code",
   "execution_count": 1,
   "id": "f9432237",
   "metadata": {},
   "outputs": [],
   "source": [
    "def get_all_clusters_at_threshold(threshold):\n",
    "    all_clusters = []\n",
    "    with open(f'clusters-by-entity-{threshold}.txt') as f:\n",
    "         for cluster in f.readlines():\n",
    "            cluster_list = cluster.split(' ')\n",
    "            for index, item in enumerate(cluster_list):\n",
    "                cluster_list[index] = cluster_list[index][0:4]\n",
    "            all_clusters.append(cluster_list)\n",
    "    return all_clusters"
   ]
  },
  {
   "cell_type": "code",
   "execution_count": 2,
   "id": "60e69bfb",
   "metadata": {},
   "outputs": [],
   "source": [
    "def pdb_list_txt_file_to_list(filename):\n",
    "    pdbs = []\n",
    "    with open(filename) as f:\n",
    "        for line in f:\n",
    "            pdbs.append(line[:4])\n",
    "    return pdbs"
   ]
  },
  {
   "cell_type": "code",
   "execution_count": 6,
   "id": "85431a19",
   "metadata": {},
   "outputs": [],
   "source": [
    "def get_only_casf_clusters_at_threshold(threshold, casf_pdbs_filename):\n",
    "    casf_pdbs_list = pdb_list_txt_file_to_list(casf_pdbs_filename)\n",
    "    all_clusters = get_all_clusters_at_threshold(threshold)\n",
    "    casf_only_clusters = {}\n",
    "    for pdb in casf_pdbs_list:  \n",
    "        while pdb not in casf_only_clusters:\n",
    "            for i in all_clusters:\n",
    "                if pdb.upper() in i:\n",
    "                    casf_only_clusters[pdb] = i\n",
    "                else:\n",
    "                    continue\n",
    "    return casf_only_clusters"
   ]
  },
  {
   "cell_type": "code",
   "execution_count": 7,
   "id": "98276a39",
   "metadata": {},
   "outputs": [],
   "source": [
    "def pdb_list_to_txt_file(file_name, pdb_list): \n",
    "    with open(file_name, 'w') as f:\n",
    "        for p in pdb_list:\n",
    "            f.write(p + '\\n')"
   ]
  },
  {
   "cell_type": "code",
   "execution_count": 32,
   "id": "f68666d4",
   "metadata": {},
   "outputs": [],
   "source": [
    "def remove_pdbs_in_casf_clusters(threshold, casf_pdbs_filename, pdbbind_pdbs_filename):\n",
    "    pdbbind_pdbs = pdb_list_txt_file_to_list(pdbbind_pdbs_filename)\n",
    "    casf_clusters = get_only_casf_clusters_at_threshold(threshold, casf_pdbs_filename)\n",
    "    # Merges all values in dictionary into single list\n",
    "    casf_clusters_merged = sum(casf_clusters.values(), [])\n",
    "    new_pdbbind_pdbs = pdbbind_pdbs[:]\n",
    "    for pdb in pdbbind_pdbs:\n",
    "        if pdb.upper() in casf_clusters_merged:\n",
    "            new_pdbbind_pdbs.remove(pdb)\n",
    "    print(f'{len(new_pdbbind_pdbs)} structures are left after {threshold}% sequence similarity thresholding')\n",
    "    new_pdbbind_pdbs_filename = pdbbind_pdbs_filename[:-4] + f'_sequence_threshold_{threshold}.txt'\n",
    "    pdb_list_to_txt_file(new_pdbbind_pdbs_filename, new_pdbbind_pdbs)\n",
    "    return None"
   ]
  },
  {
   "cell_type": "code",
   "execution_count": 33,
   "id": "e7accbda",
   "metadata": {},
   "outputs": [
    {
     "name": "stdout",
     "output_type": "stream",
     "text": [
      "11998 structures are left after 100% sequence similarity thresholding\n"
     ]
    }
   ],
   "source": [
    "remove_pdbs_in_casf_clusters(100, 'casf_2016_ids.txt', 'pdbbind_2020_general_cleaned_ids_wout_undocked.txt')"
   ]
  },
  {
   "cell_type": "code",
   "execution_count": 34,
   "id": "56d44b25",
   "metadata": {},
   "outputs": [
    {
     "name": "stdout",
     "output_type": "stream",
     "text": [
      "11062 structures are left after 90% sequence similarity thresholding\n"
     ]
    }
   ],
   "source": [
    "remove_pdbs_in_casf_clusters(90, 'casf_2016_ids.txt', 'pdbbind_2020_general_cleaned_ids_wout_undocked.txt')"
   ]
  },
  {
   "cell_type": "code",
   "execution_count": 35,
   "id": "bd6e362a",
   "metadata": {},
   "outputs": [
    {
     "name": "stdout",
     "output_type": "stream",
     "text": [
      "9208 structures are left after 30% sequence similarity thresholding\n"
     ]
    }
   ],
   "source": [
    "remove_pdbs_in_casf_clusters(30, 'casf_2016_ids.txt', 'pdbbind_2020_general_cleaned_ids_wout_undocked.txt')"
   ]
  },
  {
   "cell_type": "markdown",
   "id": "d05f1e94",
   "metadata": {},
   "source": [
    "# Ligand (Tanimoto) Similarity"
   ]
  },
  {
   "cell_type": "code",
   "execution_count": 44,
   "id": "1b07121d",
   "metadata": {},
   "outputs": [],
   "source": [
    "from rdkit import Chem\n",
    "from rdkit.Chem import AllChem\n",
    "from rdkit import DataStructs\n",
    "from rdkit.ML.Cluster import Butina\n",
    "from rdkit import RDLogger \n",
    "RDLogger.DisableLog('rdApp.*') "
   ]
  },
  {
   "cell_type": "code",
   "execution_count": 2,
   "id": "2421845a",
   "metadata": {},
   "outputs": [],
   "source": [
    "# https://www.macinchem.org/reviews/clustering/clustering.php"
   ]
  },
  {
   "cell_type": "code",
   "execution_count": 9,
   "id": "1fa592d7",
   "metadata": {},
   "outputs": [],
   "source": [
    "casf_pdbs = pdb_list_txt_file_to_list('casf_2016_ids.txt')\n",
    "p = casf_pdbs[0]"
   ]
  },
  {
   "cell_type": "code",
   "execution_count": 12,
   "id": "4f51932a",
   "metadata": {},
   "outputs": [
    {
     "data": {
      "image/png": "[encoded data removed]",
      "text/plain": [
       "<rdkit.Chem.rdchem.Mol at 0x7fc45c782c40>"
      ]
     },
     "execution_count": 12,
     "metadata": {},
     "output_type": "execute_result"
    }
   ],
   "source": [
    "get_lig(p)"
   ]
  },
  {
   "cell_type": "code",
   "execution_count": 83,
   "id": "01eab225",
   "metadata": {},
   "outputs": [],
   "source": [
    "def get_lig(pdb_id):\n",
    "    lig = next(Chem.SDMolSupplier(f'../pdbbind_2020_general/{pdb_id}/{pdb_id}_ligand.sdf'))\n",
    "    if lig == None:\n",
    "        lig = Chem.MolFromMol2File(f'../pdbbind_2020_general/{pdb_id}/{pdb_id}_ligand.mol2', removeHs=False)\n",
    "    return lig"
   ]
  },
  {
   "cell_type": "code",
   "execution_count": 84,
   "id": "6a3bd98b",
   "metadata": {},
   "outputs": [],
   "source": [
    "def generate_pdbbind_fingerprints(combined_pdbs):\n",
    "    all_ligs = [get_lig(p) for p in combined_pdbs]\n",
    "    return [AllChem.GetMorganFingerprintAsBitVect(x,2,2048) for x in all_ligs]"
   ]
  },
  {
   "cell_type": "code",
   "execution_count": 85,
   "id": "bd5e5440",
   "metadata": {},
   "outputs": [],
   "source": [
    "def cluster_pdbbind_fingerprints(pdbbind_pdbs_filename, casf_pdbs_filename, cutoff):\n",
    "    pdbbind_pdbs = pdb_list_txt_file_to_list(pdbbind_pdbs_filename)\n",
    "    casf_pdbs = pdb_list_txt_file_to_list(casf_pdbs_filename)\n",
    "    combined_pdbs = pdbbind_pdbs+casf_pdbs\n",
    "    fps = generate_pdbbind_fingerprints(combined_pdbs)\n",
    "    # first generate the distance matrix:\n",
    "    dists = []\n",
    "    nfps = len(fps)\n",
    "    for i in range(1,nfps):\n",
    "        sims = DataStructs.BulkTanimotoSimilarity(fps[i],fps[:i])\n",
    "        dists.extend([1-x for x in sims])\n",
    "    # now cluster the data:\n",
    "    cs = Butina.ClusterData(dists,nfps,cutoff,isDistData=True)\n",
    "    # enumerate (pdbids) and the cs and then swap out the numbers so it has the pdbs in the lists for the clusters\n",
    "    return convert_clusters_from_list_to_dictionary(cs, combined_pdbs)"
   ]
  },
  {
   "cell_type": "code",
   "execution_count": 86,
   "id": "7d8f5b29",
   "metadata": {},
   "outputs": [],
   "source": [
    "def generate_pdbids_to_number_dict(pdbbind_pdbs):\n",
    "    return {pdbbind_pdbs.index(pdb): pdb for pdb in pdbbind_pdbs}"
   ]
  },
  {
   "cell_type": "code",
   "execution_count": 87,
   "id": "962e4560",
   "metadata": {},
   "outputs": [],
   "source": [
    "def convert_clusters_from_list_to_dictionary(clusters, combined_pdbs):\n",
    "    dict_ = generate_pdbids_to_number_dict(combined_pdbs)\n",
    "    pdbid_clusters = []\n",
    "    for i in range(len(clusters)):\n",
    "        pdbid_clusters.append([dict_[j] for j in clusters[i]])\n",
    "    return pdbid_clusters"
   ]
  },
  {
   "cell_type": "code",
   "execution_count": 88,
   "id": "f81e8f9c",
   "metadata": {},
   "outputs": [],
   "source": [
    "def get_only_casf_clusters_at_tanimoto_similarity(threshold, casf_pdbs_filename, pdbbind_pdbs_filename):\n",
    "    cutoff = 1 - (threshold/100)\n",
    "    casf_pdbs_list = pdb_list_txt_file_to_list(casf_pdbs_filename)\n",
    "    all_clusters = cluster_pdbbind_fingerprints(pdbbind_pdbs_filename, casf_pdbs_filename, cutoff)\n",
    "    casf_only_clusters = {}\n",
    "    for pdb in casf_pdbs_list: \n",
    "        if pdb not in casf_only_clusters:\n",
    "            for i in all_clusters:\n",
    "                if pdb in i:\n",
    "                    casf_only_clusters[pdb] = i\n",
    "                else:\n",
    "                    continue\n",
    "    return casf_only_clusters"
   ]
  },
  {
   "cell_type": "code",
   "execution_count": 89,
   "id": "6db44cd7",
   "metadata": {},
   "outputs": [],
   "source": [
    "def remove_pdbs_in_casf_clusters_tanimoto(threshold, casf_pdbs_filename, pdbbind_pdbs_filename):\n",
    "    pdbbind_pdbs = pdb_list_txt_file_to_list(pdbbind_pdbs_filename)\n",
    "    casf_clusters = get_only_casf_clusters_at_tanimoto_similarity(threshold, casf_pdbs_filename, pdbbind_pdbs_filename)\n",
    "    # Merges all values in dictionary into single list\n",
    "    casf_clusters_merged = sum(casf_clusters.values(), [])\n",
    "    new_pdbbind_pdbs = pdbbind_pdbs[:]\n",
    "    for pdb in pdbbind_pdbs:\n",
    "        if pdb in casf_clusters_merged:\n",
    "            new_pdbbind_pdbs.remove(pdb)\n",
    "    print(f'{len(new_pdbbind_pdbs)} structures are left after {threshold}% tanimoto similarity thresholding')\n",
    "    new_pdbbind_pdbs_filename = pdbbind_pdbs_filename[:-4] + f'_tanimoto_threshold_{threshold}.txt'\n",
    "    pdb_list_to_txt_file(new_pdbbind_pdbs_filename, new_pdbbind_pdbs)\n",
    "    return None"
   ]
  },
  {
   "cell_type": "code",
   "execution_count": 90,
   "id": "cffe5695",
   "metadata": {},
   "outputs": [
    {
     "name": "stdout",
     "output_type": "stream",
     "text": [
      "14412 structures are left after 100% tanimoto similarity thresholding\n"
     ]
    }
   ],
   "source": [
    "remove_pdbs_in_casf_clusters_tanimoto(100, 'casf_2016_ids.txt', 'pdbbind_2020_general_cleaned_ids_wout_undocked.txt')"
   ]
  },
  {
   "cell_type": "code",
   "execution_count": 91,
   "id": "d9352c4e",
   "metadata": {},
   "outputs": [
    {
     "name": "stdout",
     "output_type": "stream",
     "text": [
      "14324 structures are left after 90% tanimoto similarity thresholding\n"
     ]
    }
   ],
   "source": [
    "remove_pdbs_in_casf_clusters_tanimoto(90, 'casf_2016_ids.txt', 'pdbbind_2020_general_cleaned_ids_wout_undocked.txt')"
   ]
  },
  {
   "cell_type": "code",
   "execution_count": 92,
   "id": "abe05e5e",
   "metadata": {},
   "outputs": [
    {
     "name": "stdout",
     "output_type": "stream",
     "text": [
      "9186 structures are left after 30% tanimoto similarity thresholding\n"
     ]
    }
   ],
   "source": [
    "remove_pdbs_in_casf_clusters_tanimoto(30, 'casf_2016_ids.txt', 'pdbbind_2020_general_cleaned_ids_wout_undocked.txt')"
   ]
  },
  {
   "cell_type": "markdown",
   "id": "f99c97aa",
   "metadata": {},
   "source": [
    "# Both at same time"
   ]
  },
  {
   "cell_type": "code",
   "execution_count": 96,
   "id": "a2f4751a",
   "metadata": {},
   "outputs": [],
   "source": [
    "def get_intersection_of_two_sets(list1, list2):\n",
    "    return list(set(list1) & set(list2))"
   ]
  },
  {
   "cell_type": "code",
   "execution_count": 97,
   "id": "5842fdd4",
   "metadata": {},
   "outputs": [],
   "source": [
    "def remove_pdbs_not_below_both_thresholds(threshold):\n",
    "    tanimoto_list = pdb_list_txt_file_to_list(f'pdbbind_2020_general_cleaned_ids_wout_undocked_tanimoto_threshold_{threshold}.txt')\n",
    "    sequence_list = pdb_list_txt_file_to_list(f'pdbbind_2020_general_cleaned_ids_wout_undocked_sequence_threshold_{threshold}.txt')\n",
    "    both_list = get_intersection_of_two_sets(tanimoto_list, sequence_list)\n",
    "    print(f'{len(both_list)} structures are left after {threshold}% tanimoto AND sequence similarity thresholding')\n",
    "    pdb_list_to_txt_file(f'pdbbind_2020_general_cleaned_ids_wout_undocked_both_threshold_{threshold}.txt', both_list)\n",
    "    return None"
   ]
  },
  {
   "cell_type": "code",
   "execution_count": 98,
   "id": "dcacf8b2",
   "metadata": {},
   "outputs": [
    {
     "name": "stdout",
     "output_type": "stream",
     "text": [
      "11706 structures are left after 100% tanimoto AND sequence similarity thresholding\n",
      "10753 structures are left after 90% tanimoto AND sequence similarity thresholding\n",
      "5904 structures are left after 30% tanimoto AND sequence similarity thresholding\n"
     ]
    }
   ],
   "source": [
    "for i in 100, 90, 30:\n",
    "    remove_pdbs_not_below_both_thresholds(i)"
   ]
  },
  {
   "cell_type": "code",
   "execution_count": null,
   "id": "fd64aa18",
   "metadata": {},
   "outputs": [],
   "source": []
  }
 ],
 "metadata": {
  "kernelspec": {
   "display_name": "Python 3 (ipykernel)",
   "language": "python",
   "name": "python3"
  },
  "language_info": {
   "codemirror_mode": {
    "name": "ipython",
    "version": 3
   },
   "file_extension": ".py",
   "mimetype": "text/x-python",
   "name": "python",
   "nbconvert_exporter": "python",
   "pygments_lexer": "ipython3",
   "version": "3.8.12"
  }
 },
 "nbformat": 4,
 "nbformat_minor": 5
}
